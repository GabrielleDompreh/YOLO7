{
 "cells": [
  {
   "cell_type": "markdown",
   "metadata": {},
   "source": [
    "# Training a YOLOv7 model on SageMaker"
   ]
  },
  {
   "cell_type": "markdown",
   "metadata": {},
   "source": [
    "## Setup environment"
   ]
  },
  {
   "cell_type": "code",
   "execution_count": null,
   "metadata": {},
   "outputs": [],
   "source": [
    "from sagemaker import get_execution_role\n",
    "from sagemaker.pytorch.estimator import PyTorch\n",
    "\n",
    "role = get_execution_role()\n",
    "inputs = {\"training\": 's3://sagemaker-eu-west-1-366243680492/yolo/input'}\n",
    "# inputs = {'training': '<your-data-s3-path>'} # training data inputs. this is the dataset location in S3"
   ]
  },
  {
   "cell_type": "markdown",
   "metadata": {},
   "source": [
    "## Get source code"
   ]
  },
  {
   "cell_type": "markdown",
   "metadata": {},
   "source": [
    "We clone the [YOLOv7 github repo](https://github.com/wongkinyiu/yolov7) into a `source_dir` folder and then copy content from the `scripts` folder into it.\n",
    "\n",
    "The `scripts` contains the `data.yaml` for our dataset. It also contains slightly modified versions of `train.py` and `test.py` so they can work smoothly with SageMaker."
   ]
  },
  {
   "cell_type": "code",
   "execution_count": null,
   "metadata": {},
   "outputs": [],
   "source": [
    "# !git clone https://github.com/WongKinYiu/yolov7.git source_dir\n",
    "# !cp scripts/* source_dir/"
   ]
  },
  {
   "cell_type": "markdown",
   "metadata": {},
   "source": [
    "## Get pre-trained weights for YOLOv7"
   ]
  },
  {
   "cell_type": "code",
   "execution_count": null,
   "metadata": {
    "scrolled": true
   },
   "outputs": [],
   "source": [
    "# !wget https://github.com/WongKinYiu/yolov7/releases/download/v0.1/yolov7_training.pt -P source_dir"
   ]
  },
  {
   "cell_type": "markdown",
   "metadata": {},
   "source": [
    "## Train"
   ]
  },
  {
   "cell_type": "code",
   "execution_count": null,
   "metadata": {},
   "outputs": [],
   "source": [
    "hyperparameters={\n",
    "    \"name\": \"yolov7-custom\",\n",
    "    \"workers\":\"8\",\n",
    "    \"device\": \"0\",\n",
    "    \"batch-size\": \"24\",\n",
    "    \"epochs\": 300,\n",
    "    \"data\": \"data.yaml\",\n",
    "    \"weights\": \"yolov7_training.pt\",\n",
    "    \"save_dir\": \"/opt/ml/model\"\n",
    "}\n",
    "\n",
    "\n",
    "# We define the Estimator object (the one leveraging the PyTorch framework container):\n",
    "estimator = PyTorch(\n",
    "    framework_version='1.11.0',\n",
    "    py_version='py38',\n",
    "    entry_point='train.py',\n",
    "    source_dir='source_dir',\n",
    "    hyperparameters=hyperparameters,\n",
    "    instance_count=1,\n",
    "    instance_type='ml.g5.2xlarge',\n",
    "    role=role,\n",
    "    disable_profiler=True\n",
    ")"
   ]
  },
  {
   "cell_type": "code",
   "execution_count": null,
   "metadata": {
    "scrolled": true
   },
   "outputs": [],
   "source": [
    "estimator.fit(inputs)"
   ]
  },
  {
   "cell_type": "code",
   "execution_count": null,
   "metadata": {},
   "outputs": [],
   "source": []
  }
 ],
 "metadata": {
  "kernelspec": {
   "display_name": "conda_pytorch_p38",
   "language": "python",
   "name": "conda_pytorch_p38"
  },
  "language_info": {
   "codemirror_mode": {
    "name": "ipython",
    "version": 3
   },
   "file_extension": ".py",
   "mimetype": "text/x-python",
   "name": "python",
   "nbconvert_exporter": "python",
   "pygments_lexer": "ipython3",
   "version": "3.8.12"
  },
  "notice": "Copyright 2017 Amazon.com, Inc. or its affiliates. All Rights Reserved.  Licensed under the Apache License, Version 2.0 (the \"License\"). You may not use this file except in compliance with the License. A copy of the License is located at http://aws.amazon.com/apache2.0/ or in the \"license\" file accompanying this file. This file is distributed on an \"AS IS\" BASIS, WITHOUT WARRANTIES OR CONDITIONS OF ANY KIND, either express or implied. See the License for the specific language governing permissions and limitations under the License."
 },
 "nbformat": 4,
 "nbformat_minor": 4
}
